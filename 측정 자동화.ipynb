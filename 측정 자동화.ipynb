{
 "cells": [
  {
   "cell_type": "code",
   "execution_count": null,
   "id": "7a2c6e4f",
   "metadata": {},
   "outputs": [],
   "source": [
    "pip install pyvisa"
   ]
  },
  {
   "cell_type": "code",
   "execution_count": null,
   "id": "6884e299",
   "metadata": {},
   "outputs": [],
   "source": [
    "pip install pyserial"
   ]
  },
  {
   "cell_type": "code",
   "execution_count": 4,
   "id": "793247eb",
   "metadata": {},
   "outputs": [],
   "source": [
    "import tkinter as tk\n",
    "from tkinter import ttk, messagebox\n",
    "import pyvisa # visa 장비 제어 라이브러리  \n",
    "import serial # 직렬 포트 통신용 라이브러리 \n",
    "import socket # TCP/IP 통신용 라이브러\n",
    "import threading\n",
    "import time"
   ]
  },
  {
   "cell_type": "code",
   "execution_count": 18,
   "id": "c67ca9c3",
   "metadata": {},
   "outputs": [
    {
     "name": "stdout",
     "output_type": "stream",
     "text": [
      "('ASRL3::INSTR', 'ASRL5::INSTR')\n"
     ]
    }
   ],
   "source": [
    "rm = pyvisa.ResourceManager()\n",
    "print(rm.list_resources())"
   ]
  },
  {
   "cell_type": "markdown",
   "id": "16614b57",
   "metadata": {},
   "source": [
    "# 전체 코드"
   ]
  },
  {
   "cell_type": "code",
   "execution_count": 6,
   "id": "de488e48",
   "metadata": {},
   "outputs": [],
   "source": [
    "class SCPIController:\n",
    "    def __init__(self, root):\n",
    "        self.root = root\n",
    "        self.root.title(\"장비 제어 자동화\")\n",
    "\n",
    "        self.rm = pyvisa.ResourceManager()\n",
    "        self.instrument = None\n",
    "        self.serial = None\n",
    "        self.socket = None\n",
    "        self.connection_type = None\n",
    "        self.is_measuring = False\n",
    "\n",
    "        self.build_ui()\n",
    "\n",
    "    def build_ui(self):\n",
    "        self.txt_resource = tk.Entry(self.root, width=50)\n",
    "        self.txt_resource.insert(0, \"USB0::0x0B21::0x0025::INSTR\") #usb로 연결된 scpi 장비 고유주소\n",
    "        self.txt_resource.pack()\n",
    "\n",
    "        self.connect_btn = tk.Button(self.root, text=\"Connect\", command=self.connect)\n",
    "        self.connect_btn.pack()\n",
    "\n",
    "        self.disconnect_btn = tk.Button(self.root, text=\"Disconnect\", command=self.disconnect, state=tk.DISABLED)\n",
    "        self.disconnect_btn.pack()\n",
    "\n",
    "        self.cmd_entry = tk.Entry(self.root, width=40)\n",
    "        self.cmd_entry.pack()\n",
    "\n",
    "        self.send_btn = tk.Button(self.root, text=\"Send Command\", command=self.send_command, state=tk.DISABLED)\n",
    "        self.send_btn.pack()\n",
    "\n",
    "        self.output = tk.Text(self.root, height=10)\n",
    "        self.output.pack()\n",
    "\n",
    "    def connect(self):\n",
    "        resource = self.txt_resource.get() #장비 주소 예: \"USB0::0x2A8D::0x1301::INSTR\" 또는 \"COM3\" 또는 \"192.168.1.100:5025\"\n",
    "        try:\n",
    "            if resource.startswith(\"USB\"): #VISA 장비로 간주\n",
    "                self.instrument = self.rm.open_resource(resource) # 함수로 장비에 연결 / 연결 객체를 instrument에 저장 \n",
    "                self.connection_type = \"USB\"\n",
    "            elif resource.startswith(\"COM\"): # 시리얼 포트로 간주\n",
    "                self.serial = serial.Serial(resource, baudrate=9600, timeout=2)\n",
    "                self.connection_type = \"SERIAL\"\n",
    "            elif \":\" in resource:\n",
    "                ip, port = resource.split(\":\") # \"IP:Port\" 형식\n",
    "                self.socket = socket.create_connection((ip, int(port)), timeout=2)\n",
    "                self.connection_type = \"LAN\"\n",
    "\n",
    "            self.connect_btn.config(state=tk.DISABLED)\n",
    "            self.disconnect_btn.config(state=tk.NORMAL)\n",
    "            self.send_btn.config(state=tk.NORMAL)\n",
    "            messagebox.showinfo(\"연결\", \"장비 연결 성공!\")\n",
    "        except Exception as e:\n",
    "            messagebox.showerror(\"오류\", f\"연결 실패: {str(e)}\")\n",
    "\n",
    "    def disconnect(self):\n",
    "        try:\n",
    "            if self.connection_type == \"USB\" and self.instrument:\n",
    "                self.instrument.close()\n",
    "            elif self.connection_type == \"SERIAL\" and self.serial:\n",
    "                self.serial.close()\n",
    "            elif self.connection_type == \"LAN\" and self.socket:\n",
    "                self.socket.close()\n",
    "\n",
    "            self.instrument = self.serial = self.socket = None\n",
    "            self.connection_type = None\n",
    "            self.connect_btn.config(state=tk.NORMAL)\n",
    "            self.disconnect_btn.config(state=tk.DISABLED)\n",
    "            self.send_btn.config(state=tk.DISABLED)\n",
    "            messagebox.showinfo(\"해제\", \"연결 해제됨\")\n",
    "        except Exception as e:\n",
    "            messagebox.showerror(\"해제 오류\", str(e))\n",
    "\n",
    "    def send_command(self):\n",
    "        cmd = self.cmd_entry.get().strip() #사용자가 입력한 명령어를 cmd변수에 저장\n",
    "        if not cmd:\n",
    "            return\n",
    "\n",
    "        try:\n",
    "            if self.connection_type == \"USB\":\n",
    "                if cmd.endswith(\"?\"): #?로 끝나니까 응답이 있는 쿼리 명령 하겠다?\n",
    "                    response = self.instrument.query(cmd)\n",
    "                    self.output.insert(tk.END, f\"> {cmd}\\n< {response}\\n\")\n",
    "                else:\n",
    "                    self.instrument.write(cmd)\n",
    "                    self.output.insert(tk.END, f\"> {cmd}\\n\")\n",
    "            elif self.connection_type == \"SERIAL\": # 시리얼 장비는 응답을 한 줄 씩 보냄 \n",
    "                self.serial.write((cmd + \"\\n\").encode('utf-8'))\n",
    "                if cmd.endswith(\"?\"):\n",
    "                    response = self.serial.readline().decode().strip()\n",
    "                    self.output.insert(tk.END, f\"> {cmd}\\n< {response}\\n\")\n",
    "            elif self.connection_type == \"LAN\":\n",
    "                self.socket.sendall((cmd + \"\\n\").encode('utf-8')) # utf-8추가\n",
    "                if cmd.endswith(\"?\"):\n",
    "                    response = self.socket.recv(1024).decode().strip()\n",
    "                    self.output.insert(tk.END, f\"> {cmd}\\n< {response}\\n\")\n",
    "        except Exception as e:\n",
    "            messagebox.showerror(\"전송 오류\", str(e))\n",
    "\n",
    "        self.cmd_entry.delete(0, tk.END) #명령어 초기화 -> 새로운 명령 입력 \n",
    "\n",
    "# 실행\n",
    "if __name__ == \"__main__\":\n",
    "    root = tk.Tk()\n",
    "    app = SCPIController(root)\n",
    "    root.mainloop()"
   ]
  },
  {
   "cell_type": "markdown",
   "id": "0d203a03",
   "metadata": {},
   "source": [
    "# "
   ]
  },
  {
   "cell_type": "markdown",
   "id": "bf725ea9",
   "metadata": {},
   "source": [
    "# scpi명령어 \n",
    "\n",
    "- *IDN?\t장비 정보 요청 (제조사, 모델명 등)\n",
    "- MEAS:VOLT?\t전압 측정 요청\n",
    "- VOLT 5\t전압 5V로 설정\n",
    "- CURR:RANG 10\t전류 범위 10A로 설정\n",
    "- OUTP ON\t출력 켜기\n",
    "- OUTP OFF\t출력 끄기\n",
    "\n",
    "*IDN?  \n",
    "VOLT:RANG:AUTO ON  \n",
    "MEAS:VOLT?  \n",
    "OUTP ON"
   ]
  },
  {
   "cell_type": "markdown",
   "id": "4cba27a0",
   "metadata": {},
   "source": [
    "# 연습"
   ]
  },
  {
   "cell_type": "code",
   "execution_count": 34,
   "id": "7dadc97e",
   "metadata": {},
   "outputs": [
    {
     "name": "stdout",
     "output_type": "stream",
     "text": [
      "('ASRL3::INSTR', 'ASRL5::INSTR')\n"
     ]
    }
   ],
   "source": [
    "rm = pyvisa.ResourceManager()\n",
    "print(rm.list_resources())"
   ]
  },
  {
   "cell_type": "code",
   "execution_count": null,
   "id": "168918a1",
   "metadata": {},
   "outputs": [],
   "source": [
    "\n",
    "rm = pyvisa.ResourceManager()\n",
    "inst = rm.open_resource('GPIB0::10::INSTR')\n",
    "inst.write('VOLT 220')\n",
    "inst.write('FREQ 60')\n",
    "inst.write('OUTP ON')\n",
    "voltage = inst.query('VOLT?')\n",
    "print(voltage)"
   ]
  },
  {
   "cell_type": "code",
   "execution_count": 35,
   "id": "0de5640c",
   "metadata": {},
   "outputs": [
    {
     "name": "stdout",
     "output_type": "stream",
     "text": [
      "\n"
     ]
    }
   ],
   "source": [
    "import serial\n",
    "ser = serial.Serial(\"COM3\", 9600, timeout=2)\n",
    "ser.write(b\"TDVOLT?\\r\")  # APT 명령어 예시\n",
    "print(ser.readline().decode())"
   ]
  },
  {
   "cell_type": "code",
   "execution_count": 37,
   "id": "fb35f790",
   "metadata": {},
   "outputs": [
    {
     "name": "stdout",
     "output_type": "stream",
     "text": [
      "응답: ''\n"
     ]
    }
   ],
   "source": [
    "ser = serial.Serial(\"COM5\", baudrate=9600, stopbits=serial.STOPBITS_TWO, timeout=1)\n",
    "\n",
    "# APT 장비는 \\r (Carriage Return)을 기대할 수 있음\n",
    "ser.write(b\"TD?\\r\")\n",
    "resp = ser.readline().decode().strip()\n",
    "print(\"응답:\", repr(resp))"
   ]
  },
  {
   "cell_type": "markdown",
   "id": "69df18f7",
   "metadata": {},
   "source": [
    "# 시리얼 포트 "
   ]
  },
  {
   "cell_type": "code",
   "execution_count": null,
   "id": "96f900c8",
   "metadata": {},
   "outputs": [],
   "source": [
    "import sys\n",
    "import serial\n",
    "import serial.tools.list_ports\n",
    "import tkinter as tk\n",
    "from tkinter import ttk, messagebox\n",
    "\n",
    "class SerialApp:\n",
    "    def __init__(self, root):\n",
    "        self.root = root\n",
    "        self.root.title(\"Serial Command Sender\")\n",
    "        self.root.geometry(\"600x500\")\n",
    "        self.serial_port = None\n",
    "\n",
    "        self.build_ui()\n",
    "\n",
    "    def build_ui(self):\n",
    "        # 설정 프레임\n",
    "        serial_frame = ttk.LabelFrame(self.root, text=\"시리얼 포트 설정\", padding=10)\n",
    "        serial_frame.pack(fill=\"x\", padx=10, pady=5)\n",
    "\n",
    "        ttk.Label(serial_frame, text=\"포트 선택:\").grid(row=0, column=0, sticky=\"e\")\n",
    "        self.port_combobox = ttk.Combobox(serial_frame, width=30)\n",
    "        self.port_combobox.grid(row=0, column=1, sticky=\"w\")\n",
    "        self.update_ports()\n",
    "\n",
    "        ttk.Label(serial_frame, text=\"Baudrate:\").grid(row=1, column=0, sticky=\"e\")\n",
    "        self.baudrate_combobox = ttk.Combobox(serial_frame, values=[\"9600\", \"19200\", \"38400\", \"57600\", \"115200\"])\n",
    "        self.baudrate_combobox.set(\"115200\")\n",
    "        self.baudrate_combobox.grid(row=1, column=1, sticky=\"w\")\n",
    "\n",
    "        self.connect_button = ttk.Button(serial_frame, text=\"Connect\", command=self.connect_serial)\n",
    "        self.connect_button.grid(row=2, column=0, pady=5)\n",
    "        self.disconnect_button = ttk.Button(serial_frame, text=\"Disconnect\", command=self.disconnect_serial)\n",
    "        self.disconnect_button.grid(row=2, column=1, pady=5)\n",
    "        self.disconnect_button['state'] = tk.DISABLED\n",
    "\n",
    "        self.status_label = ttk.Label(serial_frame, text=\"Status: Disconnected\")\n",
    "        self.status_label.grid(row=3, column=0, columnspan=2)\n",
    "\n",
    "        # 명령어 입력 및 전송\n",
    "        ttk.Label(self.root, text=\"Command to Send:\").pack(anchor=\"w\", padx=10, pady=(10, 0))\n",
    "        self.command_entry = ttk.Entry(self.root, width=60)\n",
    "        self.command_entry.pack(padx=10, pady=5, fill=\"x\")\n",
    "\n",
    "        self.send_button = ttk.Button(self.root, text=\"Send Command\", command=self.send_command)\n",
    "        self.send_button.pack(pady=5)\n",
    "        self.send_button['state'] = tk.DISABLED\n",
    "\n",
    "        # 응답 출력\n",
    "        ttk.Label(self.root, text=\"Device Response:\").pack(anchor=\"w\", padx=10)\n",
    "        self.response_text = tk.Text(self.root, height=15)\n",
    "        self.response_text.pack(fill=\"both\", expand=True, padx=10, pady=5)\n",
    "\n",
    "    def update_ports(self):\n",
    "        ports = serial.tools.list_ports.comports()\n",
    "        self.port_combobox['values'] = [port.device for port in ports]\n",
    "        if ports:\n",
    "            self.port_combobox.set(ports[0].device)\n",
    "\n",
    "    def connect_serial(self):\n",
    "        try:\n",
    "            port = self.port_combobox.get()\n",
    "            baudrate = int(self.baudrate_combobox.get())\n",
    "\n",
    "            self.serial_port = serial.Serial(\n",
    "                port=port,\n",
    "                baudrate=baudrate,\n",
    "                timeout=1\n",
    "            )\n",
    "            self.status_label.config(text=f\"Status: Connected to {port}\")\n",
    "            self.connect_button['state'] = tk.DISABLED\n",
    "            self.disconnect_button['state'] = tk.NORMAL\n",
    "            self.send_button['state'] = tk.NORMAL\n",
    "            messagebox.showinfo(\"Connected\", f\"Connected to {port}\")\n",
    "        except Exception as e:\n",
    "            messagebox.showerror(\"Connection Error\", str(e))\n",
    "\n",
    "    def disconnect_serial(self):\n",
    "        if self.serial_port and self.serial_port.is_open:\n",
    "            self.serial_port.close()\n",
    "        self.status_label.config(text=\"Status: Disconnected\")\n",
    "        self.connect_button['state'] = tk.NORMAL\n",
    "        self.disconnect_button['state'] = tk.DISABLED\n",
    "        self.send_button['state'] = tk.DISABLED\n",
    "        messagebox.showinfo(\"Disconnected\", \"Serial port disconnected.\")\n",
    "\n",
    "    def send_command(self, command):\n",
    "        if self.serial_port and self.serial_port.is_open:\n",
    "            full_command = command + '\\n'  # LF = Line Feed = 0x0A\n",
    "            try:\n",
    "                self.serial_port.write(full_command.encode('ascii'))\n",
    "                self.serial_port.flush()\n",
    "                time.sleep(0.2)  # 기기 반응 대기 (필요시 조절)\n",
    "\n",
    "                # ACK/NAK 응답 수신\n",
    "                ack = self.serial_port.read(1)\n",
    "                if ack == b'\\x06':\n",
    "                    self.received_data_text.insert(tk.END, f\"Command OK: {command}\\n\")\n",
    "                elif ack == b'\\x15':\n",
    "                    self.received_data_text.insert(tk.END, f\"Command NAK/Error: {command}\\n\")\n",
    "                else:\n",
    "                    self.received_data_text.insert(tk.END, f\"No ACK/NAK: Raw Response: {ack}\\n\")\n",
    "\n",
    "            except Exception as e:\n",
    "                messagebox.showerror(\"Command Error\", str(e))"
   ]
  },
  {
   "cell_type": "code",
   "execution_count": 8,
   "id": "0330b7fd",
   "metadata": {},
   "outputs": [],
   "source": [
    "if __name__ == '__main__':\n",
    "    root = tk.Tk()\n",
    "    app = SerialApp(root)\n",
    "    root.mainloop()"
   ]
  },
  {
   "cell_type": "code",
   "execution_count": null,
   "id": "fc3fcc67",
   "metadata": {},
   "outputs": [],
   "source": [
    "rm = pyvisa.ResourceManager()\n",
    "print(rm.list_resources())"
   ]
  },
  {
   "cell_type": "code",
   "execution_count": null,
   "id": "14c9c388",
   "metadata": {},
   "outputs": [
    {
     "name": "stdout",
     "output_type": "stream",
     "text": [
      "ASRL3::INSTR -> Error: VI_ERROR_TMO (-1073807339): Timeout expired before operation completed.\n"
     ]
    }
   ],
   "source": [
    "#아마 com3는 내 마우스, com5로? 마우스 빼기\n",
    "import serial\n",
    "\n",
    "ser = serial.Serial(\n",
    "    port=\"COM5\",\n",
    "    baudrate=9600,\n",
    "    bytesize=serial.EIGHTBITS,\n",
    "    parity=serial.PARITY_NONE,\n",
    "    stopbits=serial.STOPBITS_ONE,\n",
    "    timeout=1\n",
    ")\n",
    "ser.write(b\"*IDN?\\n\")\n",
    "print(ser.readline())"
   ]
  },
  {
   "cell_type": "code",
   "execution_count": null,
   "id": "05731228",
   "metadata": {},
   "outputs": [],
   "source": [
    "# 시리얼\n",
    "ser = serial.Serial(\n",
    "    port='COM5',                  \n",
    "    baudrate=9600,\n",
    "    bytesize=serial.EIGHTBITS,\n",
    "    parity=serial.PARITY_NONE,\n",
    "    stopbits=serial.STOPBITS_ONE,\n",
    "    timeout=1\n",
    ")\n",
    "\n",
    "# 명령어 전송\n",
    "ser.write(b'*IDN?\\n')  # LF로 종료해야 함\n",
    "\n",
    "# 응답 읽기\n",
    "time.sleep(0.2)\n",
    "response = ser.readline().decode(errors='ignore').strip()\n",
    "print(\"응답:\", response)\n"
   ]
  },
  {
   "cell_type": "code",
   "execution_count": null,
   "id": "2c44a05c",
   "metadata": {},
   "outputs": [],
   "source": [
    "#파이비자 \n",
    "rm = pyvisa.ResourceManager()\n",
    "inst = rm.open_resource('ASRL5::INSTR')  \n",
    "\n",
    "inst.baud_rate = 9600\n",
    "inst.data_bits = 8\n",
    "inst.stop_bits = 1\n",
    "inst.parity = pyvisa.constants.Parity.none\n",
    "inst.write_termination = '\\n'\n",
    "inst.read_termination = '\\n'\n",
    "inst.timeout = 1000  # 1000ms\n",
    "\n",
    "# 명령어 전송 및 응답 받기\n",
    "print(\"IDN 응답:\", inst.query(\"*IDN?\"))"
   ]
  }
 ],
 "metadata": {
  "kernelspec": {
   "display_name": "base",
   "language": "python",
   "name": "python3"
  },
  "language_info": {
   "codemirror_mode": {
    "name": "ipython",
    "version": 3
   },
   "file_extension": ".py",
   "mimetype": "text/x-python",
   "name": "python",
   "nbconvert_exporter": "python",
   "pygments_lexer": "ipython3",
   "version": "3.11.7"
  }
 },
 "nbformat": 4,
 "nbformat_minor": 5
}
